{
 "cells": [
  {
   "cell_type": "markdown",
   "metadata": {
    "editable": true
   },
   "source": [
    "# US Immigration \n",
    "### Data Engineering Capstone Project\n",
    "#### Sample Data Analysis queries"
   ]
  },
  {
   "cell_type": "code",
   "execution_count": 1,
   "metadata": {
    "editable": true
   },
   "outputs": [],
   "source": [
    "import pandas as pd\n",
    "import numpy as np\n",
    "from pyspark.sql import SparkSession\n",
    "from pyspark.sql.types import DateType, StringType\n",
    "from pyspark.sql.functions import col, sum, udf, when, round\n",
    "from pyspark.sql.functions import monotonically_increasing_id"
   ]
  },
  {
   "cell_type": "code",
   "execution_count": 2,
   "metadata": {
    "editable": true
   },
   "outputs": [],
   "source": [
    "# create the spark session\n",
    "spark = SparkSession.builder.\\\n",
    "config(\"spark.jars.repositories\", \"https://repos.spark-packages.org/\").\\\n",
    "config(\"spark.jars.packages\", \"saurfang:spark-sas7bdat:2.0.0-s_2.11\").\\\n",
    "enableHiveSupport().getOrCreate()"
   ]
  },
  {
   "cell_type": "markdown",
   "metadata": {
    "editable": true
   },
   "source": [
    "#### Import data frames"
   ]
  },
  {
   "cell_type": "code",
   "execution_count": 3,
   "metadata": {
    "editable": true
   },
   "outputs": [],
   "source": [
    "data_storage = 'data_warehouse/'"
   ]
  },
  {
   "cell_type": "code",
   "execution_count": 4,
   "metadata": {
    "editable": true
   },
   "outputs": [],
   "source": [
    "fact_i94 = spark.read.parquet('{}fact_i94'.format(data_storage))"
   ]
  },
  {
   "cell_type": "code",
   "execution_count": 5,
   "metadata": {
    "editable": true
   },
   "outputs": [],
   "source": [
    "dim_city = spark.read.parquet('{}dim_city'.format(data_storage))\n",
    "dim_state = spark.read.parquet('{}dim_state'.format(data_storage))\n",
    "dim_country = spark.read.parquet('{}dim_country'.format(data_storage))\n",
    "dim_visacat = spark.read.parquet('{}dim_visacat'.format(data_storage))\n",
    "dim_travelmode = spark.read.parquet('{}dim_travelmode'.format(data_storage))\n",
    "dim_demographics = spark.read.parquet('{}dim_demographics'.format(data_storage))"
   ]
  },
  {
   "cell_type": "code",
   "execution_count": 6,
   "metadata": {
    "editable": true
   },
   "outputs": [],
   "source": [
    "# create temporary views for SQL queries\n",
    "dim_country.createOrReplaceTempView('country')\n",
    "dim_state.createOrReplaceTempView('states')\n",
    "dim_city.createOrReplaceTempView('city')\n",
    "dim_visacat.createOrReplaceTempView('visacat')"
   ]
  },
  {
   "cell_type": "code",
   "execution_count": 7,
   "metadata": {
    "editable": true
   },
   "outputs": [],
   "source": [
    "fact_i94.createOrReplaceTempView('fact_i94_table')"
   ]
  },
  {
   "cell_type": "code",
   "execution_count": 8,
   "metadata": {
    "editable": true
   },
   "outputs": [],
   "source": [
    "dim_demographics.createOrReplaceTempView('city_demo')"
   ]
  },
  {
   "cell_type": "markdown",
   "metadata": {
    "editable": true
   },
   "source": [
    "#### basic data analysis\n",
    "---\n",
    "\n",
    "Select a table with the count of the three visa categories per city (port of entry) combined with median age, average household size, and total population."
   ]
  },
  {
   "cell_type": "code",
   "execution_count": 9,
   "metadata": {
    "editable": true
   },
   "outputs": [
    {
     "name": "stdout",
     "output_type": "stream",
     "text": [
      "+------------+------------+--------+----------+----------------------+----------------+\n",
      "|        city|visacatcount| visacat|median_age|average_household_size|total_population|\n",
      "+------------+------------+--------+----------+----------------------+----------------+\n",
      "|    NEW YORK|       12421| Student|      36.0|                  2.68|         8550405|\n",
      "|    NEW YORK|       69867|Business|      36.0|                  2.68|         8550405|\n",
      "|    NEW YORK|      538234|Pleasure|      36.0|                  2.68|         8550405|\n",
      "| LOS ANGELES|      354203|Pleasure|      35.0|                  2.86|         3971896|\n",
      "| LOS ANGELES|       51170|Business|      35.0|                  2.86|         3971896|\n",
      "| LOS ANGELES|       10035| Student|      35.0|                  2.86|         3971896|\n",
      "|     CHICAGO|      122085|Pleasure|      34.2|                  2.53|         2720556|\n",
      "|     CHICAGO|       51854|Business|      34.2|                  2.53|         2720556|\n",
      "|     CHICAGO|        9648| Student|      34.2|                  2.53|         2720556|\n",
      "|     HOUSTON|        2861| Student|      32.6|                  2.66|         2298628|\n",
      "|     HOUSTON|       85304|Pleasure|      32.6|                  2.66|         2298628|\n",
      "|     HOUSTON|       23457|Business|      32.6|                  2.66|         2298628|\n",
      "|PHILADELPHIA|         784| Student|      34.1|                  2.61|         1567442|\n",
      "|PHILADELPHIA|       20914|Pleasure|      34.1|                  2.61|         1567442|\n",
      "|PHILADELPHIA|        6716|Business|      34.1|                  2.61|         1567442|\n",
      "|     PHOENIX|        1513|Business|      33.8|                  2.89|         1563001|\n",
      "|     PHOENIX|        6909|Pleasure|      33.8|                  2.89|         1563001|\n",
      "|     PHOENIX|         132| Student|      33.8|                  2.89|         1563001|\n",
      "| SAN ANTONIO|        8230|Pleasure|      33.1|                  2.93|         1469824|\n",
      "| SAN ANTONIO|         645|Business|      33.1|                  2.93|         1469824|\n",
      "+------------+------------+--------+----------+----------------------+----------------+\n",
      "only showing top 20 rows\n",
      "\n"
     ]
    }
   ],
   "source": [
    "query = \"\"\"\n",
    "        WITH cte AS (\n",
    "            SELECT c.city AS city, COUNT(v.visacat) AS visacatcount, v.visacat \n",
    "            FROM fact_i94_table AS f \n",
    "            JOIN visacat AS v ON f.i94visa = v.i94visa\n",
    "            JOIN city AS c ON f.i94port = c.city_code\n",
    "            GROUP BY c.city, v.visacat\n",
    "            ORDER BY c.city\n",
    "        )\n",
    "        SELECT cte.*, cd.median_age, cd.average_household_size, cd.total_population \n",
    "        FROM cte\n",
    "        JOIN city_demo AS cd ON UPPER(cd.city) = cte.city\n",
    "        ORDER BY cd.total_population DESC\n",
    "\"\"\"\n",
    "i94 = spark.sql(query)\n",
    "i94.show()"
   ]
  },
  {
   "cell_type": "markdown",
   "metadata": {
    "editable": true
   },
   "source": [
    "---"
   ]
  },
  {
   "cell_type": "code",
   "execution_count": null,
   "metadata": {
    "editable": true
   },
   "outputs": [],
   "source": []
  }
 ],
 "metadata": {
  "kernelspec": {
   "display_name": "Python 3",
   "language": "python",
   "name": "python3"
  },
  "language_info": {
   "codemirror_mode": {
    "name": "ipython",
    "version": 3
   },
   "file_extension": ".py",
   "mimetype": "text/x-python",
   "name": "python",
   "nbconvert_exporter": "python",
   "pygments_lexer": "ipython3",
   "version": "3.6.3"
  }
 },
 "nbformat": 4,
 "nbformat_minor": 4
}
